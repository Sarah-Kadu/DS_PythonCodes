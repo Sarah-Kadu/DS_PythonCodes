{
  "nbformat": 4,
  "nbformat_minor": 0,
  "metadata": {
    "colab": {
      "provenance": []
    },
    "kernelspec": {
      "name": "python3",
      "display_name": "Python 3"
    },
    "language_info": {
      "name": "python"
    }
  },
  "cells": [
    {
      "cell_type": "code",
      "execution_count": 1,
      "metadata": {
        "id": "zU_xL0Zn_gCq"
      },
      "outputs": [],
      "source": [
        "#Importing Libraries\n",
        "import numpy as np\n",
        "import pandas as pd\n",
        "import matplotlib.pyplot as plt\n",
        "from sklearn.model_selection import train_test_split\n",
        "from sklearn.preprocessing import StandardScaler\n",
        "from sklearn import metrics\n",
        "from sklearn.metrics import accuracy_score\n",
        "from sklearn.metrics import classification_report\n",
        "from sklearn.metrics import confusion_matrix"
      ]
    },
    {
      "cell_type": "code",
      "source": [
        "#Loading dataset\n",
        "data=pd.read_csv(\"/content/Social_Network_Ads.csv\")\n",
        "data.head()"
      ],
      "metadata": {
        "colab": {
          "base_uri": "https://localhost:8080/",
          "height": 206
        },
        "id": "e8PdMnsu_y41",
        "outputId": "47f378c8-0a70-490b-8baa-c06239d2df63"
      },
      "execution_count": 2,
      "outputs": [
        {
          "output_type": "execute_result",
          "data": {
            "text/plain": [
              "    User ID  Gender  Age  EstimatedSalary  Purchased\n",
              "0  15624510    Male   19            19000          0\n",
              "1  15810944    Male   35            20000          0\n",
              "2  15668575  Female   26            43000          0\n",
              "3  15603246  Female   27            57000          0\n",
              "4  15804002    Male   19            76000          0"
            ],
            "text/html": [
              "\n",
              "  <div id=\"df-d93637ef-6b9e-4712-9283-d47a2b252871\">\n",
              "    <div class=\"colab-df-container\">\n",
              "      <div>\n",
              "<style scoped>\n",
              "    .dataframe tbody tr th:only-of-type {\n",
              "        vertical-align: middle;\n",
              "    }\n",
              "\n",
              "    .dataframe tbody tr th {\n",
              "        vertical-align: top;\n",
              "    }\n",
              "\n",
              "    .dataframe thead th {\n",
              "        text-align: right;\n",
              "    }\n",
              "</style>\n",
              "<table border=\"1\" class=\"dataframe\">\n",
              "  <thead>\n",
              "    <tr style=\"text-align: right;\">\n",
              "      <th></th>\n",
              "      <th>User ID</th>\n",
              "      <th>Gender</th>\n",
              "      <th>Age</th>\n",
              "      <th>EstimatedSalary</th>\n",
              "      <th>Purchased</th>\n",
              "    </tr>\n",
              "  </thead>\n",
              "  <tbody>\n",
              "    <tr>\n",
              "      <th>0</th>\n",
              "      <td>15624510</td>\n",
              "      <td>Male</td>\n",
              "      <td>19</td>\n",
              "      <td>19000</td>\n",
              "      <td>0</td>\n",
              "    </tr>\n",
              "    <tr>\n",
              "      <th>1</th>\n",
              "      <td>15810944</td>\n",
              "      <td>Male</td>\n",
              "      <td>35</td>\n",
              "      <td>20000</td>\n",
              "      <td>0</td>\n",
              "    </tr>\n",
              "    <tr>\n",
              "      <th>2</th>\n",
              "      <td>15668575</td>\n",
              "      <td>Female</td>\n",
              "      <td>26</td>\n",
              "      <td>43000</td>\n",
              "      <td>0</td>\n",
              "    </tr>\n",
              "    <tr>\n",
              "      <th>3</th>\n",
              "      <td>15603246</td>\n",
              "      <td>Female</td>\n",
              "      <td>27</td>\n",
              "      <td>57000</td>\n",
              "      <td>0</td>\n",
              "    </tr>\n",
              "    <tr>\n",
              "      <th>4</th>\n",
              "      <td>15804002</td>\n",
              "      <td>Male</td>\n",
              "      <td>19</td>\n",
              "      <td>76000</td>\n",
              "      <td>0</td>\n",
              "    </tr>\n",
              "  </tbody>\n",
              "</table>\n",
              "</div>\n",
              "      <button class=\"colab-df-convert\" onclick=\"convertToInteractive('df-d93637ef-6b9e-4712-9283-d47a2b252871')\"\n",
              "              title=\"Convert this dataframe to an interactive table.\"\n",
              "              style=\"display:none;\">\n",
              "        \n",
              "  <svg xmlns=\"http://www.w3.org/2000/svg\" height=\"24px\"viewBox=\"0 0 24 24\"\n",
              "       width=\"24px\">\n",
              "    <path d=\"M0 0h24v24H0V0z\" fill=\"none\"/>\n",
              "    <path d=\"M18.56 5.44l.94 2.06.94-2.06 2.06-.94-2.06-.94-.94-2.06-.94 2.06-2.06.94zm-11 1L8.5 8.5l.94-2.06 2.06-.94-2.06-.94L8.5 2.5l-.94 2.06-2.06.94zm10 10l.94 2.06.94-2.06 2.06-.94-2.06-.94-.94-2.06-.94 2.06-2.06.94z\"/><path d=\"M17.41 7.96l-1.37-1.37c-.4-.4-.92-.59-1.43-.59-.52 0-1.04.2-1.43.59L10.3 9.45l-7.72 7.72c-.78.78-.78 2.05 0 2.83L4 21.41c.39.39.9.59 1.41.59.51 0 1.02-.2 1.41-.59l7.78-7.78 2.81-2.81c.8-.78.8-2.07 0-2.86zM5.41 20L4 18.59l7.72-7.72 1.47 1.35L5.41 20z\"/>\n",
              "  </svg>\n",
              "      </button>\n",
              "      \n",
              "  <style>\n",
              "    .colab-df-container {\n",
              "      display:flex;\n",
              "      flex-wrap:wrap;\n",
              "      gap: 12px;\n",
              "    }\n",
              "\n",
              "    .colab-df-convert {\n",
              "      background-color: #E8F0FE;\n",
              "      border: none;\n",
              "      border-radius: 50%;\n",
              "      cursor: pointer;\n",
              "      display: none;\n",
              "      fill: #1967D2;\n",
              "      height: 32px;\n",
              "      padding: 0 0 0 0;\n",
              "      width: 32px;\n",
              "    }\n",
              "\n",
              "    .colab-df-convert:hover {\n",
              "      background-color: #E2EBFA;\n",
              "      box-shadow: 0px 1px 2px rgba(60, 64, 67, 0.3), 0px 1px 3px 1px rgba(60, 64, 67, 0.15);\n",
              "      fill: #174EA6;\n",
              "    }\n",
              "\n",
              "    [theme=dark] .colab-df-convert {\n",
              "      background-color: #3B4455;\n",
              "      fill: #D2E3FC;\n",
              "    }\n",
              "\n",
              "    [theme=dark] .colab-df-convert:hover {\n",
              "      background-color: #434B5C;\n",
              "      box-shadow: 0px 1px 3px 1px rgba(0, 0, 0, 0.15);\n",
              "      filter: drop-shadow(0px 1px 2px rgba(0, 0, 0, 0.3));\n",
              "      fill: #FFFFFF;\n",
              "    }\n",
              "  </style>\n",
              "\n",
              "      <script>\n",
              "        const buttonEl =\n",
              "          document.querySelector('#df-d93637ef-6b9e-4712-9283-d47a2b252871 button.colab-df-convert');\n",
              "        buttonEl.style.display =\n",
              "          google.colab.kernel.accessAllowed ? 'block' : 'none';\n",
              "\n",
              "        async function convertToInteractive(key) {\n",
              "          const element = document.querySelector('#df-d93637ef-6b9e-4712-9283-d47a2b252871');\n",
              "          const dataTable =\n",
              "            await google.colab.kernel.invokeFunction('convertToInteractive',\n",
              "                                                     [key], {});\n",
              "          if (!dataTable) return;\n",
              "\n",
              "          const docLinkHtml = 'Like what you see? Visit the ' +\n",
              "            '<a target=\"_blank\" href=https://colab.research.google.com/notebooks/data_table.ipynb>data table notebook</a>'\n",
              "            + ' to learn more about interactive tables.';\n",
              "          element.innerHTML = '';\n",
              "          dataTable['output_type'] = 'display_data';\n",
              "          await google.colab.output.renderOutput(dataTable, element);\n",
              "          const docLink = document.createElement('div');\n",
              "          docLink.innerHTML = docLinkHtml;\n",
              "          element.appendChild(docLink);\n",
              "        }\n",
              "      </script>\n",
              "    </div>\n",
              "  </div>\n",
              "  "
            ]
          },
          "metadata": {},
          "execution_count": 2
        }
      ]
    },
    {
      "cell_type": "code",
      "source": [
        "data.shape"
      ],
      "metadata": {
        "colab": {
          "base_uri": "https://localhost:8080/"
        },
        "id": "4PAJ5xFi_1D1",
        "outputId": "f710b234-6c83-4552-b04c-06e88dc718ce"
      },
      "execution_count": 3,
      "outputs": [
        {
          "output_type": "execute_result",
          "data": {
            "text/plain": [
              "(400, 5)"
            ]
          },
          "metadata": {},
          "execution_count": 3
        }
      ]
    },
    {
      "cell_type": "code",
      "source": [
        "data.isnull().sum()"
      ],
      "metadata": {
        "colab": {
          "base_uri": "https://localhost:8080/"
        },
        "id": "nyAFhXrC_50l",
        "outputId": "d77a2241-1330-4b49-dea5-96745643e9c6"
      },
      "execution_count": 4,
      "outputs": [
        {
          "output_type": "execute_result",
          "data": {
            "text/plain": [
              "User ID            0\n",
              "Gender             0\n",
              "Age                0\n",
              "EstimatedSalary    0\n",
              "Purchased          0\n",
              "dtype: int64"
            ]
          },
          "metadata": {},
          "execution_count": 4
        }
      ]
    },
    {
      "cell_type": "code",
      "source": [
        "data.Gender.value_counts()"
      ],
      "metadata": {
        "colab": {
          "base_uri": "https://localhost:8080/"
        },
        "id": "A7wcnDQn_5x2",
        "outputId": "0c4fb4ac-04e0-4115-e5c8-425582241918"
      },
      "execution_count": 5,
      "outputs": [
        {
          "output_type": "execute_result",
          "data": {
            "text/plain": [
              "Female    204\n",
              "Male      196\n",
              "Name: Gender, dtype: int64"
            ]
          },
          "metadata": {},
          "execution_count": 5
        }
      ]
    },
    {
      "cell_type": "code",
      "source": [
        "data['Gender']=data['Gender'].astype('category')\n",
        "data['Gender']=data['Gender'].cat.codes"
      ],
      "metadata": {
        "id": "cSKvYUaE_5vP"
      },
      "execution_count": 6,
      "outputs": []
    },
    {
      "cell_type": "code",
      "source": [
        "data.Gender.value_counts()"
      ],
      "metadata": {
        "colab": {
          "base_uri": "https://localhost:8080/"
        },
        "id": "upfd0dLm_5sS",
        "outputId": "d58e7443-3a22-4fbe-a9fc-b9c3575eecc4"
      },
      "execution_count": 7,
      "outputs": [
        {
          "output_type": "execute_result",
          "data": {
            "text/plain": [
              "0    204\n",
              "1    196\n",
              "Name: Gender, dtype: int64"
            ]
          },
          "metadata": {},
          "execution_count": 7
        }
      ]
    },
    {
      "cell_type": "markdown",
      "source": [
        "#Independent & dependent variables"
      ],
      "metadata": {
        "id": "k8ZxJysgAVTF"
      }
    },
    {
      "cell_type": "code",
      "source": [
        "X=data.iloc[:,[2,3]]\n",
        "y=data['Purchased']"
      ],
      "metadata": {
        "id": "BoYnztCYAUdZ"
      },
      "execution_count": 8,
      "outputs": []
    },
    {
      "cell_type": "code",
      "source": [
        "X.head()"
      ],
      "metadata": {
        "colab": {
          "base_uri": "https://localhost:8080/",
          "height": 206
        },
        "id": "tzv8YC-B_5pT",
        "outputId": "8b458ec6-8a6f-42ec-df56-42212341cd8c"
      },
      "execution_count": 9,
      "outputs": [
        {
          "output_type": "execute_result",
          "data": {
            "text/plain": [
              "   Age  EstimatedSalary\n",
              "0   19            19000\n",
              "1   35            20000\n",
              "2   26            43000\n",
              "3   27            57000\n",
              "4   19            76000"
            ],
            "text/html": [
              "\n",
              "  <div id=\"df-25367e4b-1391-4693-a5e5-ebbb79ca2543\">\n",
              "    <div class=\"colab-df-container\">\n",
              "      <div>\n",
              "<style scoped>\n",
              "    .dataframe tbody tr th:only-of-type {\n",
              "        vertical-align: middle;\n",
              "    }\n",
              "\n",
              "    .dataframe tbody tr th {\n",
              "        vertical-align: top;\n",
              "    }\n",
              "\n",
              "    .dataframe thead th {\n",
              "        text-align: right;\n",
              "    }\n",
              "</style>\n",
              "<table border=\"1\" class=\"dataframe\">\n",
              "  <thead>\n",
              "    <tr style=\"text-align: right;\">\n",
              "      <th></th>\n",
              "      <th>Age</th>\n",
              "      <th>EstimatedSalary</th>\n",
              "    </tr>\n",
              "  </thead>\n",
              "  <tbody>\n",
              "    <tr>\n",
              "      <th>0</th>\n",
              "      <td>19</td>\n",
              "      <td>19000</td>\n",
              "    </tr>\n",
              "    <tr>\n",
              "      <th>1</th>\n",
              "      <td>35</td>\n",
              "      <td>20000</td>\n",
              "    </tr>\n",
              "    <tr>\n",
              "      <th>2</th>\n",
              "      <td>26</td>\n",
              "      <td>43000</td>\n",
              "    </tr>\n",
              "    <tr>\n",
              "      <th>3</th>\n",
              "      <td>27</td>\n",
              "      <td>57000</td>\n",
              "    </tr>\n",
              "    <tr>\n",
              "      <th>4</th>\n",
              "      <td>19</td>\n",
              "      <td>76000</td>\n",
              "    </tr>\n",
              "  </tbody>\n",
              "</table>\n",
              "</div>\n",
              "      <button class=\"colab-df-convert\" onclick=\"convertToInteractive('df-25367e4b-1391-4693-a5e5-ebbb79ca2543')\"\n",
              "              title=\"Convert this dataframe to an interactive table.\"\n",
              "              style=\"display:none;\">\n",
              "        \n",
              "  <svg xmlns=\"http://www.w3.org/2000/svg\" height=\"24px\"viewBox=\"0 0 24 24\"\n",
              "       width=\"24px\">\n",
              "    <path d=\"M0 0h24v24H0V0z\" fill=\"none\"/>\n",
              "    <path d=\"M18.56 5.44l.94 2.06.94-2.06 2.06-.94-2.06-.94-.94-2.06-.94 2.06-2.06.94zm-11 1L8.5 8.5l.94-2.06 2.06-.94-2.06-.94L8.5 2.5l-.94 2.06-2.06.94zm10 10l.94 2.06.94-2.06 2.06-.94-2.06-.94-.94-2.06-.94 2.06-2.06.94z\"/><path d=\"M17.41 7.96l-1.37-1.37c-.4-.4-.92-.59-1.43-.59-.52 0-1.04.2-1.43.59L10.3 9.45l-7.72 7.72c-.78.78-.78 2.05 0 2.83L4 21.41c.39.39.9.59 1.41.59.51 0 1.02-.2 1.41-.59l7.78-7.78 2.81-2.81c.8-.78.8-2.07 0-2.86zM5.41 20L4 18.59l7.72-7.72 1.47 1.35L5.41 20z\"/>\n",
              "  </svg>\n",
              "      </button>\n",
              "      \n",
              "  <style>\n",
              "    .colab-df-container {\n",
              "      display:flex;\n",
              "      flex-wrap:wrap;\n",
              "      gap: 12px;\n",
              "    }\n",
              "\n",
              "    .colab-df-convert {\n",
              "      background-color: #E8F0FE;\n",
              "      border: none;\n",
              "      border-radius: 50%;\n",
              "      cursor: pointer;\n",
              "      display: none;\n",
              "      fill: #1967D2;\n",
              "      height: 32px;\n",
              "      padding: 0 0 0 0;\n",
              "      width: 32px;\n",
              "    }\n",
              "\n",
              "    .colab-df-convert:hover {\n",
              "      background-color: #E2EBFA;\n",
              "      box-shadow: 0px 1px 2px rgba(60, 64, 67, 0.3), 0px 1px 3px 1px rgba(60, 64, 67, 0.15);\n",
              "      fill: #174EA6;\n",
              "    }\n",
              "\n",
              "    [theme=dark] .colab-df-convert {\n",
              "      background-color: #3B4455;\n",
              "      fill: #D2E3FC;\n",
              "    }\n",
              "\n",
              "    [theme=dark] .colab-df-convert:hover {\n",
              "      background-color: #434B5C;\n",
              "      box-shadow: 0px 1px 3px 1px rgba(0, 0, 0, 0.15);\n",
              "      filter: drop-shadow(0px 1px 2px rgba(0, 0, 0, 0.3));\n",
              "      fill: #FFFFFF;\n",
              "    }\n",
              "  </style>\n",
              "\n",
              "      <script>\n",
              "        const buttonEl =\n",
              "          document.querySelector('#df-25367e4b-1391-4693-a5e5-ebbb79ca2543 button.colab-df-convert');\n",
              "        buttonEl.style.display =\n",
              "          google.colab.kernel.accessAllowed ? 'block' : 'none';\n",
              "\n",
              "        async function convertToInteractive(key) {\n",
              "          const element = document.querySelector('#df-25367e4b-1391-4693-a5e5-ebbb79ca2543');\n",
              "          const dataTable =\n",
              "            await google.colab.kernel.invokeFunction('convertToInteractive',\n",
              "                                                     [key], {});\n",
              "          if (!dataTable) return;\n",
              "\n",
              "          const docLinkHtml = 'Like what you see? Visit the ' +\n",
              "            '<a target=\"_blank\" href=https://colab.research.google.com/notebooks/data_table.ipynb>data table notebook</a>'\n",
              "            + ' to learn more about interactive tables.';\n",
              "          element.innerHTML = '';\n",
              "          dataTable['output_type'] = 'display_data';\n",
              "          await google.colab.output.renderOutput(dataTable, element);\n",
              "          const docLink = document.createElement('div');\n",
              "          docLink.innerHTML = docLinkHtml;\n",
              "          element.appendChild(docLink);\n",
              "        }\n",
              "      </script>\n",
              "    </div>\n",
              "  </div>\n",
              "  "
            ]
          },
          "metadata": {},
          "execution_count": 9
        }
      ]
    },
    {
      "cell_type": "code",
      "source": [
        "y.head()"
      ],
      "metadata": {
        "colab": {
          "base_uri": "https://localhost:8080/"
        },
        "id": "LFuaWXxY_5mi",
        "outputId": "33b0beb7-3075-4a8c-dcf6-c9ea353cb28a"
      },
      "execution_count": 10,
      "outputs": [
        {
          "output_type": "execute_result",
          "data": {
            "text/plain": [
              "0    0\n",
              "1    0\n",
              "2    0\n",
              "3    0\n",
              "4    0\n",
              "Name: Purchased, dtype: int64"
            ]
          },
          "metadata": {},
          "execution_count": 10
        }
      ]
    },
    {
      "cell_type": "markdown",
      "source": [
        "#Splitting the data set using train test split"
      ],
      "metadata": {
        "id": "vz6Ugp7GAqPi"
      }
    },
    {
      "cell_type": "code",
      "source": [
        "X_train,X_test,y_train,y_test=train_test_split(X,y, test_size=0.3,random_state=0)\n"
      ],
      "metadata": {
        "id": "3rJsMRG0_5jw"
      },
      "execution_count": 11,
      "outputs": []
    },
    {
      "cell_type": "code",
      "source": [
        "print(\"X_train\",X_train.shape)\n",
        "print(\"X_test\",X_test.shape)\n",
        "print(\"y_train\",y_train.shape)\n",
        "print(\"y_test\",y_test.shape)"
      ],
      "metadata": {
        "colab": {
          "base_uri": "https://localhost:8080/"
        },
        "id": "Qs1IIKHZ_5g-",
        "outputId": "bbf01c2c-c6f8-4ec1-dfe5-94a91d9d4381"
      },
      "execution_count": 12,
      "outputs": [
        {
          "output_type": "stream",
          "name": "stdout",
          "text": [
            "X_train (280, 2)\n",
            "X_test (120, 2)\n",
            "y_train (280,)\n",
            "y_test (120,)\n"
          ]
        }
      ]
    },
    {
      "cell_type": "markdown",
      "source": [
        "#Feature Scaling"
      ],
      "metadata": {
        "id": "7q0wdKKYA58g"
      }
    },
    {
      "cell_type": "code",
      "source": [
        "scaler=StandardScaler()\n",
        "X_train_scaled=scaler.fit_transform(X_train)\n",
        "X_test_scaled=scaler.transform(X_test)"
      ],
      "metadata": {
        "id": "crZtoPGj_5eB"
      },
      "execution_count": 13,
      "outputs": []
    },
    {
      "cell_type": "code",
      "source": [
        "X_train_scaled"
      ],
      "metadata": {
        "colab": {
          "base_uri": "https://localhost:8080/"
        },
        "id": "pCUxB163FPKe",
        "outputId": "1c3a0560-1499-4dc6-a096-05fb577a4865"
      },
      "execution_count": 14,
      "outputs": [
        {
          "output_type": "execute_result",
          "data": {
            "text/plain": [
              "array([[-1.1631724 , -1.5849703 ],\n",
              "       [ 2.17018137,  0.93098672],\n",
              "       [ 0.0133054 ,  1.22017719],\n",
              "       [ 0.20938504,  1.07558195],\n",
              "       [ 0.40546467, -0.48604654],\n",
              "       [-0.28081405, -0.31253226],\n",
              "       [ 0.99370357, -0.8330751 ],\n",
              "       [ 0.99370357,  1.8563962 ],\n",
              "       [ 0.0133054 ,  1.24909623],\n",
              "       [-0.86905295,  2.26126285],\n",
              "       [-1.1631724 , -1.5849703 ],\n",
              "       [ 2.17018137, -0.80415605],\n",
              "       [-1.35925203, -1.46929411],\n",
              "       [ 0.40546467,  2.2901819 ],\n",
              "       [ 0.79762394,  0.75747245],\n",
              "       [-0.96709276, -0.31253226],\n",
              "       [ 0.11134522,  0.75747245],\n",
              "       [-0.96709276,  0.55503912],\n",
              "       [ 0.30742485,  0.06341534],\n",
              "       [ 0.69958412, -1.26686079],\n",
              "       [-0.47689368, -0.0233418 ],\n",
              "       [-1.7514113 ,  0.3526058 ],\n",
              "       [-0.67297331,  0.12125343],\n",
              "       [ 0.40546467,  0.29476771],\n",
              "       [-0.28081405,  0.06341534],\n",
              "       [-0.47689368,  2.2901819 ],\n",
              "       [ 0.20938504,  0.03449629],\n",
              "       [ 1.28782302,  2.20342476],\n",
              "       [ 0.79762394,  0.26584866],\n",
              "       [-0.28081405,  0.15017248],\n",
              "       [ 0.0133054 , -0.54388463],\n",
              "       [-0.18277423,  0.15017248],\n",
              "       [-0.08473441,  0.23692961],\n",
              "       [ 0.0133054 , -0.25469417],\n",
              "       [ 2.17018137,  1.104501  ],\n",
              "       [-1.7514113 ,  0.3526058 ],\n",
              "       [ 1.87606192,  0.12125343],\n",
              "       [ 0.40546467, -0.13901799],\n",
              "       [-1.1631724 ,  0.29476771],\n",
              "       [ 0.79762394,  1.36477242],\n",
              "       [-0.28081405, -0.25469417],\n",
              "       [-1.65337148, -0.05226085],\n",
              "       [-0.96709276, -0.74631796],\n",
              "       [ 0.30742485,  0.49720103],\n",
              "       [-0.08473441, -1.06442747],\n",
              "       [-1.06513258,  0.58395817],\n",
              "       [ 0.11134522, -0.80415605],\n",
              "       [-0.96709276,  1.53828669],\n",
              "       [-0.67297331,  1.39369146],\n",
              "       [-1.26121221,  0.49720103],\n",
              "       [-0.28081405,  0.03449629],\n",
              "       [-0.08473441,  0.00557724],\n",
              "       [-0.28081405, -0.89091319],\n",
              "       [ 0.89566375, -1.35361793],\n",
              "       [-0.28081405,  2.2323438 ],\n",
              "       [ 0.99370357,  1.97207239],\n",
              "       [-1.1631724 ,  0.46828198],\n",
              "       [-1.26121221,  0.26584866],\n",
              "       [ 1.38586284,  1.97207239],\n",
              "       [ 1.28782302, -1.35361793],\n",
              "       [-0.28081405, -0.28361322],\n",
              "       [-0.47689368,  1.24909623],\n",
              "       [-0.77101313,  1.07558195],\n",
              "       [ 0.99370357, -1.06442747],\n",
              "       [ 0.30742485,  0.29476771],\n",
              "       [ 0.99370357,  0.75747245],\n",
              "       [-0.67297331, -1.49821316],\n",
              "       [-0.67297331,  0.03449629],\n",
              "       [ 0.50350449,  1.71180097],\n",
              "       [ 2.07214155,  0.17909152],\n",
              "       [-1.94749093, -0.74631796],\n",
              "       [-0.18277423,  1.39369146],\n",
              "       [ 0.40546467,  0.58395817],\n",
              "       [ 0.89566375, -1.1511846 ],\n",
              "       [-1.1631724 , -0.775237  ],\n",
              "       [ 0.20938504,  0.23692961],\n",
              "       [ 0.79762394, -0.31253226],\n",
              "       [ 2.07214155, -0.80415605],\n",
              "       [ 0.79762394,  0.12125343],\n",
              "       [-0.28081405,  0.61287722],\n",
              "       [-0.96709276, -0.31253226],\n",
              "       [ 0.20938504, -0.37037036],\n",
              "       [ 2.07214155,  2.11666762],\n",
              "       [ 1.87606192, -1.26686079],\n",
              "       [ 1.38586284, -0.91983223],\n",
              "       [ 0.89566375,  1.24909623],\n",
              "       [ 1.48390265,  2.11666762],\n",
              "       [-0.28081405, -1.23794174],\n",
              "       [ 1.97410174,  0.90206768],\n",
              "       [ 0.69958412, -0.71739891],\n",
              "       [-1.45729185,  0.3526058 ],\n",
              "       [ 0.79762394, -1.35361793],\n",
              "       [ 0.40546467, -0.13901799],\n",
              "       [-0.96709276,  0.41044389],\n",
              "       [ 0.0133054 , -0.31253226],\n",
              "       [-1.1631724 ,  0.41044389],\n",
              "       [-0.86905295, -1.2090227 ],\n",
              "       [-0.08473441,  0.03449629],\n",
              "       [-1.55533166, -0.42820845],\n",
              "       [ 0.99370357, -1.00658937],\n",
              "       [ 1.09174339, -1.2090227 ],\n",
              "       [ 0.0133054 , -0.13901799],\n",
              "       [-1.06513258, -1.52713221],\n",
              "       [ 0.79762394, -1.2090227 ],\n",
              "       [ 0.99370357,  2.05882953],\n",
              "       [-1.1631724 , -1.52713221],\n",
              "       [-0.28081405,  0.78639149],\n",
              "       [ 0.11134522, -0.31253226],\n",
              "       [-1.35925203, -1.23794174],\n",
              "       [-0.5749335 , -1.49821316],\n",
              "       [ 0.79762394,  0.52612008],\n",
              "       [-0.28081405, -0.34145131],\n",
              "       [ 1.7780221 , -0.28361322],\n",
              "       [ 0.89566375, -1.03550842],\n",
              "       [ 0.20938504,  0.06341534],\n",
              "       [-0.5749335 ,  0.87314863],\n",
              "       [-1.84945111, -1.41145602],\n",
              "       [-1.26121221,  0.58395817],\n",
              "       [-0.28081405,  0.52612008],\n",
              "       [-0.96709276, -1.09334651],\n",
              "       [ 1.1897832 , -1.44037507],\n",
              "       [ 0.20938504, -0.31253226],\n",
              "       [ 1.1897832 , -0.74631796],\n",
              "       [-0.28081405,  0.06341534],\n",
              "       [ 0.20938504,  2.08774857],\n",
              "       [ 0.79762394, -1.09334651],\n",
              "       [ 0.11134522,  0.03449629],\n",
              "       [-1.7514113 ,  0.12125343],\n",
              "       [-0.86905295,  0.15017248],\n",
              "       [-0.67297331,  0.17909152],\n",
              "       [ 0.89566375, -1.29577984],\n",
              "       [ 0.20938504, -0.25469417],\n",
              "       [-0.37885386,  1.22017719],\n",
              "       [ 0.0133054 ,  0.29476771],\n",
              "       [ 0.40546467,  0.15017248],\n",
              "       [ 0.89566375, -0.65956082],\n",
              "       [ 0.11134522,  0.15017248],\n",
              "       [-1.84945111, -1.29577984],\n",
              "       [-0.08473441,  0.29476771],\n",
              "       [-0.18277423, -0.28361322],\n",
              "       [ 0.30742485, -0.51496559],\n",
              "       [-0.18277423,  1.59612479],\n",
              "       [ 0.99370357, -1.18010365],\n",
              "       [-0.18277423,  1.62504383],\n",
              "       [ 1.28782302,  1.8563962 ],\n",
              "       [-1.06513258, -0.37037036],\n",
              "       [ 0.0133054 ,  0.03449629],\n",
              "       [ 0.11134522, -0.25469417],\n",
              "       [-1.55533166, -1.23794174],\n",
              "       [-0.47689368, -0.28361322],\n",
              "       [ 0.99370357,  0.12125343],\n",
              "       [ 1.97410174, -1.35361793],\n",
              "       [ 1.48390265,  0.06341534],\n",
              "       [-0.5749335 ,  1.36477242],\n",
              "       [ 1.58194247,  0.00557724],\n",
              "       [-0.77101313,  0.29476771],\n",
              "       [ 1.97410174,  0.7285534 ],\n",
              "       [-1.1631724 , -0.51496559],\n",
              "       [ 0.69958412,  0.26584866],\n",
              "       [-1.35925203, -0.42820845],\n",
              "       [ 0.20938504,  0.15017248],\n",
              "       [-0.47689368, -1.2090227 ],\n",
              "       [ 0.6015443 ,  2.00099143],\n",
              "       [-1.55533166, -1.49821316],\n",
              "       [-0.47689368, -0.54388463],\n",
              "       [ 0.50350449,  1.82747716],\n",
              "       [-1.35925203, -1.09334651],\n",
              "       [ 0.79762394, -1.38253697],\n",
              "       [-0.28081405, -0.42820845],\n",
              "       [ 1.58194247,  0.98882482],\n",
              "       [ 0.99370357,  1.42261051],\n",
              "       [-0.28081405, -0.48604654],\n",
              "       [-0.08473441,  2.14558666],\n",
              "       [-1.45729185, -0.11009894],\n",
              "       [-0.08473441,  1.94315334],\n",
              "       [-0.67297331, -0.34145131],\n",
              "       [-0.47689368, -0.8330751 ],\n",
              "       [ 0.69958412, -1.38253697],\n",
              "       [-0.77101313, -1.5849703 ],\n",
              "       [-1.84945111, -1.46929411],\n",
              "       [ 1.09174339,  0.12125343],\n",
              "       [ 0.11134522,  1.50936765],\n",
              "       [-0.28081405,  0.09233438],\n",
              "       [ 0.11134522,  0.03449629],\n",
              "       [-1.35925203, -1.35361793],\n",
              "       [ 0.30742485,  0.06341534],\n",
              "       [-0.86905295,  0.38152485],\n",
              "       [ 1.58194247, -1.26686079],\n",
              "       [-0.28081405, -0.74631796],\n",
              "       [-0.08473441,  0.15017248],\n",
              "       [-0.86905295, -0.65956082],\n",
              "       [-0.67297331, -0.05226085],\n",
              "       [ 0.40546467, -0.45712749],\n",
              "       [-0.77101313,  1.88531525],\n",
              "       [ 1.38586284,  1.27801528],\n",
              "       [ 1.1897832 , -0.97767033],\n",
              "       [ 1.7780221 ,  1.82747716],\n",
              "       [-0.86905295, -0.25469417],\n",
              "       [-0.77101313,  0.55503912],\n",
              "       [-1.1631724 , -1.55605125],\n",
              "       [-0.47689368, -1.12226556],\n",
              "       [ 0.30742485,  0.06341534],\n",
              "       [-0.18277423, -1.06442747],\n",
              "       [ 1.67998229,  1.59612479],\n",
              "       [ 0.99370357,  1.76963906],\n",
              "       [ 0.30742485,  0.03449629],\n",
              "       [-0.77101313, -0.22577513],\n",
              "       [-0.08473441,  0.06341534],\n",
              "       [ 0.30742485, -0.19685608],\n",
              "       [ 1.97410174, -0.65956082],\n",
              "       [-0.77101313,  1.33585337],\n",
              "       [-1.7514113 , -0.60172273],\n",
              "       [-0.08473441,  0.12125343],\n",
              "       [ 0.30742485, -0.31253226],\n",
              "       [ 1.09174339,  0.55503912],\n",
              "       [-0.96709276,  0.26584866],\n",
              "       [ 1.48390265,  0.3526058 ],\n",
              "       [ 0.20938504, -0.37037036],\n",
              "       [ 2.17018137, -1.03550842],\n",
              "       [-0.28081405,  1.104501  ],\n",
              "       [-1.65337148,  0.06341534],\n",
              "       [ 0.0133054 ,  0.03449629],\n",
              "       [ 0.11134522,  1.04666291],\n",
              "       [-0.08473441, -0.37037036],\n",
              "       [-1.1631724 ,  0.06341534],\n",
              "       [-0.28081405, -1.35361793],\n",
              "       [ 1.58194247,  1.104501  ],\n",
              "       [-0.77101313, -1.52713221],\n",
              "       [ 0.11134522,  1.8563962 ],\n",
              "       [-0.86905295, -0.775237  ],\n",
              "       [-0.47689368, -0.775237  ],\n",
              "       [-0.28081405, -0.91983223],\n",
              "       [ 0.30742485, -0.71739891],\n",
              "       [ 0.30742485,  0.06341534],\n",
              "       [ 0.11134522,  1.8563962 ],\n",
              "       [-1.06513258,  1.94315334],\n",
              "       [-1.65337148, -1.55605125],\n",
              "       [-1.1631724 , -1.09334651],\n",
              "       [-0.67297331, -0.11009894],\n",
              "       [ 0.11134522,  0.09233438],\n",
              "       [ 0.30742485,  0.26584866],\n",
              "       [ 0.89566375, -0.57280368],\n",
              "       [ 0.30742485, -1.1511846 ],\n",
              "       [-0.08473441,  0.67071531],\n",
              "       [ 2.17018137, -0.68847986],\n",
              "       [-1.26121221, -1.38253697],\n",
              "       [-0.96709276, -0.94875128],\n",
              "       [ 0.0133054 , -0.42820845],\n",
              "       [-0.18277423, -0.45712749],\n",
              "       [-1.7514113 , -0.97767033],\n",
              "       [ 1.7780221 ,  0.98882482],\n",
              "       [ 0.20938504, -0.37037036],\n",
              "       [ 0.40546467,  1.104501  ],\n",
              "       [-1.7514113 , -1.35361793],\n",
              "       [ 0.20938504, -0.13901799],\n",
              "       [ 0.89566375, -1.44037507],\n",
              "       [-1.94749093,  0.46828198],\n",
              "       [-0.28081405,  0.26584866],\n",
              "       [ 1.87606192, -1.06442747],\n",
              "       [-0.37885386,  0.06341534],\n",
              "       [ 1.09174339, -0.89091319],\n",
              "       [-1.06513258, -1.12226556],\n",
              "       [-1.84945111,  0.00557724],\n",
              "       [ 0.11134522,  0.26584866],\n",
              "       [-1.1631724 ,  0.32368675],\n",
              "       [-1.26121221,  0.29476771],\n",
              "       [-0.96709276,  0.43936294],\n",
              "       [ 1.67998229, -0.89091319],\n",
              "       [ 1.1897832 ,  0.52612008],\n",
              "       [ 1.09174339,  0.52612008],\n",
              "       [ 1.38586284,  2.31910094],\n",
              "       [-0.28081405, -0.13901799],\n",
              "       [ 0.40546467, -0.45712749],\n",
              "       [-0.37885386, -0.775237  ],\n",
              "       [-0.08473441, -0.51496559],\n",
              "       [ 0.99370357, -1.1511846 ],\n",
              "       [-0.86905295, -0.775237  ],\n",
              "       [-0.18277423, -0.51496559],\n",
              "       [-1.06513258, -0.45712749],\n",
              "       [-1.1631724 ,  1.39369146]])"
            ]
          },
          "metadata": {},
          "execution_count": 14
        }
      ]
    },
    {
      "cell_type": "markdown",
      "source": [
        "#Model Building - Applying SVC on training set using kernel linear"
      ],
      "metadata": {
        "id": "X3AyP97UBQuZ"
      }
    },
    {
      "cell_type": "code",
      "source": [
        "from sklearn.svm import SVC\n",
        "model=SVC(kernel='linear',random_state=0)\n",
        "model.fit(X_train_scaled,y_train)"
      ],
      "metadata": {
        "colab": {
          "base_uri": "https://localhost:8080/",
          "height": 75
        },
        "id": "JqcM0dBR_5ay",
        "outputId": "c6a35120-a22b-4e73-d790-0a8dcad395fb"
      },
      "execution_count": 15,
      "outputs": [
        {
          "output_type": "execute_result",
          "data": {
            "text/plain": [
              "SVC(kernel='linear', random_state=0)"
            ],
            "text/html": [
              "<style>#sk-container-id-1 {color: black;background-color: white;}#sk-container-id-1 pre{padding: 0;}#sk-container-id-1 div.sk-toggleable {background-color: white;}#sk-container-id-1 label.sk-toggleable__label {cursor: pointer;display: block;width: 100%;margin-bottom: 0;padding: 0.3em;box-sizing: border-box;text-align: center;}#sk-container-id-1 label.sk-toggleable__label-arrow:before {content: \"▸\";float: left;margin-right: 0.25em;color: #696969;}#sk-container-id-1 label.sk-toggleable__label-arrow:hover:before {color: black;}#sk-container-id-1 div.sk-estimator:hover label.sk-toggleable__label-arrow:before {color: black;}#sk-container-id-1 div.sk-toggleable__content {max-height: 0;max-width: 0;overflow: hidden;text-align: left;background-color: #f0f8ff;}#sk-container-id-1 div.sk-toggleable__content pre {margin: 0.2em;color: black;border-radius: 0.25em;background-color: #f0f8ff;}#sk-container-id-1 input.sk-toggleable__control:checked~div.sk-toggleable__content {max-height: 200px;max-width: 100%;overflow: auto;}#sk-container-id-1 input.sk-toggleable__control:checked~label.sk-toggleable__label-arrow:before {content: \"▾\";}#sk-container-id-1 div.sk-estimator input.sk-toggleable__control:checked~label.sk-toggleable__label {background-color: #d4ebff;}#sk-container-id-1 div.sk-label input.sk-toggleable__control:checked~label.sk-toggleable__label {background-color: #d4ebff;}#sk-container-id-1 input.sk-hidden--visually {border: 0;clip: rect(1px 1px 1px 1px);clip: rect(1px, 1px, 1px, 1px);height: 1px;margin: -1px;overflow: hidden;padding: 0;position: absolute;width: 1px;}#sk-container-id-1 div.sk-estimator {font-family: monospace;background-color: #f0f8ff;border: 1px dotted black;border-radius: 0.25em;box-sizing: border-box;margin-bottom: 0.5em;}#sk-container-id-1 div.sk-estimator:hover {background-color: #d4ebff;}#sk-container-id-1 div.sk-parallel-item::after {content: \"\";width: 100%;border-bottom: 1px solid gray;flex-grow: 1;}#sk-container-id-1 div.sk-label:hover label.sk-toggleable__label {background-color: #d4ebff;}#sk-container-id-1 div.sk-serial::before {content: \"\";position: absolute;border-left: 1px solid gray;box-sizing: border-box;top: 0;bottom: 0;left: 50%;z-index: 0;}#sk-container-id-1 div.sk-serial {display: flex;flex-direction: column;align-items: center;background-color: white;padding-right: 0.2em;padding-left: 0.2em;position: relative;}#sk-container-id-1 div.sk-item {position: relative;z-index: 1;}#sk-container-id-1 div.sk-parallel {display: flex;align-items: stretch;justify-content: center;background-color: white;position: relative;}#sk-container-id-1 div.sk-item::before, #sk-container-id-1 div.sk-parallel-item::before {content: \"\";position: absolute;border-left: 1px solid gray;box-sizing: border-box;top: 0;bottom: 0;left: 50%;z-index: -1;}#sk-container-id-1 div.sk-parallel-item {display: flex;flex-direction: column;z-index: 1;position: relative;background-color: white;}#sk-container-id-1 div.sk-parallel-item:first-child::after {align-self: flex-end;width: 50%;}#sk-container-id-1 div.sk-parallel-item:last-child::after {align-self: flex-start;width: 50%;}#sk-container-id-1 div.sk-parallel-item:only-child::after {width: 0;}#sk-container-id-1 div.sk-dashed-wrapped {border: 1px dashed gray;margin: 0 0.4em 0.5em 0.4em;box-sizing: border-box;padding-bottom: 0.4em;background-color: white;}#sk-container-id-1 div.sk-label label {font-family: monospace;font-weight: bold;display: inline-block;line-height: 1.2em;}#sk-container-id-1 div.sk-label-container {text-align: center;}#sk-container-id-1 div.sk-container {/* jupyter's `normalize.less` sets `[hidden] { display: none; }` but bootstrap.min.css set `[hidden] { display: none !important; }` so we also need the `!important` here to be able to override the default hidden behavior on the sphinx rendered scikit-learn.org. See: https://github.com/scikit-learn/scikit-learn/issues/21755 */display: inline-block !important;position: relative;}#sk-container-id-1 div.sk-text-repr-fallback {display: none;}</style><div id=\"sk-container-id-1\" class=\"sk-top-container\"><div class=\"sk-text-repr-fallback\"><pre>SVC(kernel=&#x27;linear&#x27;, random_state=0)</pre><b>In a Jupyter environment, please rerun this cell to show the HTML representation or trust the notebook. <br />On GitHub, the HTML representation is unable to render, please try loading this page with nbviewer.org.</b></div><div class=\"sk-container\" hidden><div class=\"sk-item\"><div class=\"sk-estimator sk-toggleable\"><input class=\"sk-toggleable__control sk-hidden--visually\" id=\"sk-estimator-id-1\" type=\"checkbox\" checked><label for=\"sk-estimator-id-1\" class=\"sk-toggleable__label sk-toggleable__label-arrow\">SVC</label><div class=\"sk-toggleable__content\"><pre>SVC(kernel=&#x27;linear&#x27;, random_state=0)</pre></div></div></div></div></div>"
            ]
          },
          "metadata": {},
          "execution_count": 15
        }
      ]
    },
    {
      "cell_type": "code",
      "source": [
        "#checking accuracy training data\n",
        "y_pred_train = model.predict(X_train_scaled)\n",
        "pd.Series(y_pred_train).value_counts()"
      ],
      "metadata": {
        "colab": {
          "base_uri": "https://localhost:8080/"
        },
        "id": "X4mSJGd1_5WN",
        "outputId": "d5661146-f08b-417d-889d-73894162001e"
      },
      "execution_count": 16,
      "outputs": [
        {
          "output_type": "execute_result",
          "data": {
            "text/plain": [
              "0    200\n",
              "1     80\n",
              "dtype: int64"
            ]
          },
          "metadata": {},
          "execution_count": 16
        }
      ]
    },
    {
      "cell_type": "code",
      "source": [
        "metrics.accuracy_score(y_pred_train,y_train)"
      ],
      "metadata": {
        "colab": {
          "base_uri": "https://localhost:8080/"
        },
        "id": "VA-P29MU_5R-",
        "outputId": "eed24aaf-5e92-4ffd-acf6-0a8658dff492"
      },
      "execution_count": 17,
      "outputs": [
        {
          "output_type": "execute_result",
          "data": {
            "text/plain": [
              "0.8285714285714286"
            ]
          },
          "metadata": {},
          "execution_count": 17
        }
      ]
    },
    {
      "cell_type": "code",
      "source": [
        "#checking accuracy testing data\n",
        "y_pred_test = model.predict(X_test_scaled)\n",
        "pd.Series(y_pred_test).value_counts()"
      ],
      "metadata": {
        "colab": {
          "base_uri": "https://localhost:8080/"
        },
        "id": "vEA6c4bL_5O5",
        "outputId": "cfe18a18-efe6-4572-a474-4f8f2f38b3c4"
      },
      "execution_count": 18,
      "outputs": [
        {
          "output_type": "execute_result",
          "data": {
            "text/plain": [
              "0    87\n",
              "1    33\n",
              "dtype: int64"
            ]
          },
          "metadata": {},
          "execution_count": 18
        }
      ]
    },
    {
      "cell_type": "code",
      "source": [
        "metrics.accuracy_score(y_pred_test,y_test)"
      ],
      "metadata": {
        "colab": {
          "base_uri": "https://localhost:8080/"
        },
        "id": "vIe0FsXC_5Li",
        "outputId": "ea620dbc-5481-417b-8837-fcb272f42b18"
      },
      "execution_count": 19,
      "outputs": [
        {
          "output_type": "execute_result",
          "data": {
            "text/plain": [
              "0.8666666666666667"
            ]
          },
          "metadata": {},
          "execution_count": 19
        }
      ]
    },
    {
      "cell_type": "code",
      "source": [
        "print(classification_report(y_test,y_pred_test))"
      ],
      "metadata": {
        "colab": {
          "base_uri": "https://localhost:8080/"
        },
        "id": "VlpRRSDR_5I-",
        "outputId": "36590410-8dff-4c22-eda3-a78451afb7b0"
      },
      "execution_count": 20,
      "outputs": [
        {
          "output_type": "stream",
          "name": "stdout",
          "text": [
            "              precision    recall  f1-score   support\n",
            "\n",
            "           0       0.86      0.95      0.90        79\n",
            "           1       0.88      0.71      0.78        41\n",
            "\n",
            "    accuracy                           0.87       120\n",
            "   macro avg       0.87      0.83      0.84       120\n",
            "weighted avg       0.87      0.87      0.86       120\n",
            "\n"
          ]
        }
      ]
    },
    {
      "cell_type": "code",
      "source": [
        "confusion_matrix(y_test,y_pred_test)"
      ],
      "metadata": {
        "colab": {
          "base_uri": "https://localhost:8080/"
        },
        "id": "yCUwKAqK_5GU",
        "outputId": "9d931455-3cf1-410a-8dab-be2b2f48a645"
      },
      "execution_count": 21,
      "outputs": [
        {
          "output_type": "execute_result",
          "data": {
            "text/plain": [
              "array([[75,  4],\n",
              "       [12, 29]])"
            ]
          },
          "metadata": {},
          "execution_count": 21
        }
      ]
    },
    {
      "cell_type": "markdown",
      "source": [
        "**Out of 120 prediction 104 predictions are coreect only 16 prediction are not correct**"
      ],
      "metadata": {
        "id": "mAlZfyShB9P0"
      }
    },
    {
      "cell_type": "code",
      "source": [
        "model.score(X_test_scaled,y_test)"
      ],
      "metadata": {
        "colab": {
          "base_uri": "https://localhost:8080/"
        },
        "id": "s8iS_AJM_5Dd",
        "outputId": "e4a8860c-8b23-47ca-ded1-30468b2d5bad"
      },
      "execution_count": 22,
      "outputs": [
        {
          "output_type": "execute_result",
          "data": {
            "text/plain": [
              "0.8666666666666667"
            ]
          },
          "metadata": {},
          "execution_count": 22
        }
      ]
    },
    {
      "cell_type": "markdown",
      "source": [
        "#Model Building - Applying SVC on training set using kernel RBF"
      ],
      "metadata": {
        "id": "Gw9dcmbpCBf0"
      }
    },
    {
      "cell_type": "markdown",
      "source": [
        "**here we can use higher value for the rbf parameters gamma & C, acuuracy can improve or might get decrease as well**"
      ],
      "metadata": {
        "id": "tvAl2RjzCEdx"
      }
    },
    {
      "cell_type": "code",
      "source": [
        "from sklearn.svm import SVC\n",
        "model1=SVC(kernel='rbf', random_state=0)\n",
        "model1.fit(X_train_scaled,y_train)"
      ],
      "metadata": {
        "colab": {
          "base_uri": "https://localhost:8080/",
          "height": 75
        },
        "id": "VAp0OpFl_5AX",
        "outputId": "a0cad200-f137-46e4-d98b-a21a148e8c01"
      },
      "execution_count": 23,
      "outputs": [
        {
          "output_type": "execute_result",
          "data": {
            "text/plain": [
              "SVC(random_state=0)"
            ],
            "text/html": [
              "<style>#sk-container-id-2 {color: black;background-color: white;}#sk-container-id-2 pre{padding: 0;}#sk-container-id-2 div.sk-toggleable {background-color: white;}#sk-container-id-2 label.sk-toggleable__label {cursor: pointer;display: block;width: 100%;margin-bottom: 0;padding: 0.3em;box-sizing: border-box;text-align: center;}#sk-container-id-2 label.sk-toggleable__label-arrow:before {content: \"▸\";float: left;margin-right: 0.25em;color: #696969;}#sk-container-id-2 label.sk-toggleable__label-arrow:hover:before {color: black;}#sk-container-id-2 div.sk-estimator:hover label.sk-toggleable__label-arrow:before {color: black;}#sk-container-id-2 div.sk-toggleable__content {max-height: 0;max-width: 0;overflow: hidden;text-align: left;background-color: #f0f8ff;}#sk-container-id-2 div.sk-toggleable__content pre {margin: 0.2em;color: black;border-radius: 0.25em;background-color: #f0f8ff;}#sk-container-id-2 input.sk-toggleable__control:checked~div.sk-toggleable__content {max-height: 200px;max-width: 100%;overflow: auto;}#sk-container-id-2 input.sk-toggleable__control:checked~label.sk-toggleable__label-arrow:before {content: \"▾\";}#sk-container-id-2 div.sk-estimator input.sk-toggleable__control:checked~label.sk-toggleable__label {background-color: #d4ebff;}#sk-container-id-2 div.sk-label input.sk-toggleable__control:checked~label.sk-toggleable__label {background-color: #d4ebff;}#sk-container-id-2 input.sk-hidden--visually {border: 0;clip: rect(1px 1px 1px 1px);clip: rect(1px, 1px, 1px, 1px);height: 1px;margin: -1px;overflow: hidden;padding: 0;position: absolute;width: 1px;}#sk-container-id-2 div.sk-estimator {font-family: monospace;background-color: #f0f8ff;border: 1px dotted black;border-radius: 0.25em;box-sizing: border-box;margin-bottom: 0.5em;}#sk-container-id-2 div.sk-estimator:hover {background-color: #d4ebff;}#sk-container-id-2 div.sk-parallel-item::after {content: \"\";width: 100%;border-bottom: 1px solid gray;flex-grow: 1;}#sk-container-id-2 div.sk-label:hover label.sk-toggleable__label {background-color: #d4ebff;}#sk-container-id-2 div.sk-serial::before {content: \"\";position: absolute;border-left: 1px solid gray;box-sizing: border-box;top: 0;bottom: 0;left: 50%;z-index: 0;}#sk-container-id-2 div.sk-serial {display: flex;flex-direction: column;align-items: center;background-color: white;padding-right: 0.2em;padding-left: 0.2em;position: relative;}#sk-container-id-2 div.sk-item {position: relative;z-index: 1;}#sk-container-id-2 div.sk-parallel {display: flex;align-items: stretch;justify-content: center;background-color: white;position: relative;}#sk-container-id-2 div.sk-item::before, #sk-container-id-2 div.sk-parallel-item::before {content: \"\";position: absolute;border-left: 1px solid gray;box-sizing: border-box;top: 0;bottom: 0;left: 50%;z-index: -1;}#sk-container-id-2 div.sk-parallel-item {display: flex;flex-direction: column;z-index: 1;position: relative;background-color: white;}#sk-container-id-2 div.sk-parallel-item:first-child::after {align-self: flex-end;width: 50%;}#sk-container-id-2 div.sk-parallel-item:last-child::after {align-self: flex-start;width: 50%;}#sk-container-id-2 div.sk-parallel-item:only-child::after {width: 0;}#sk-container-id-2 div.sk-dashed-wrapped {border: 1px dashed gray;margin: 0 0.4em 0.5em 0.4em;box-sizing: border-box;padding-bottom: 0.4em;background-color: white;}#sk-container-id-2 div.sk-label label {font-family: monospace;font-weight: bold;display: inline-block;line-height: 1.2em;}#sk-container-id-2 div.sk-label-container {text-align: center;}#sk-container-id-2 div.sk-container {/* jupyter's `normalize.less` sets `[hidden] { display: none; }` but bootstrap.min.css set `[hidden] { display: none !important; }` so we also need the `!important` here to be able to override the default hidden behavior on the sphinx rendered scikit-learn.org. See: https://github.com/scikit-learn/scikit-learn/issues/21755 */display: inline-block !important;position: relative;}#sk-container-id-2 div.sk-text-repr-fallback {display: none;}</style><div id=\"sk-container-id-2\" class=\"sk-top-container\"><div class=\"sk-text-repr-fallback\"><pre>SVC(random_state=0)</pre><b>In a Jupyter environment, please rerun this cell to show the HTML representation or trust the notebook. <br />On GitHub, the HTML representation is unable to render, please try loading this page with nbviewer.org.</b></div><div class=\"sk-container\" hidden><div class=\"sk-item\"><div class=\"sk-estimator sk-toggleable\"><input class=\"sk-toggleable__control sk-hidden--visually\" id=\"sk-estimator-id-2\" type=\"checkbox\" checked><label for=\"sk-estimator-id-2\" class=\"sk-toggleable__label sk-toggleable__label-arrow\">SVC</label><div class=\"sk-toggleable__content\"><pre>SVC(random_state=0)</pre></div></div></div></div></div>"
            ]
          },
          "metadata": {},
          "execution_count": 23
        }
      ]
    },
    {
      "cell_type": "code",
      "source": [
        "#checking accuracy training data\n",
        "y_pred_train1 = model1.predict(X_train_scaled)\n",
        "pd.Series(y_pred_train1).value_counts()"
      ],
      "metadata": {
        "colab": {
          "base_uri": "https://localhost:8080/"
        },
        "id": "DkCrtDND_49m",
        "outputId": "287d6cf0-bf8d-4feb-e02c-d7bc7cbb80a8"
      },
      "execution_count": 24,
      "outputs": [
        {
          "output_type": "execute_result",
          "data": {
            "text/plain": [
              "0    171\n",
              "1    109\n",
              "dtype: int64"
            ]
          },
          "metadata": {},
          "execution_count": 24
        }
      ]
    },
    {
      "cell_type": "code",
      "source": [
        "metrics.accuracy_score(y_pred_train1,y_train)"
      ],
      "metadata": {
        "colab": {
          "base_uri": "https://localhost:8080/"
        },
        "id": "QSmLoqyw_4nj",
        "outputId": "d4cfe0ef-67f8-4881-cb28-3c06f4bf2b5b"
      },
      "execution_count": 25,
      "outputs": [
        {
          "output_type": "execute_result",
          "data": {
            "text/plain": [
              "0.9178571428571428"
            ]
          },
          "metadata": {},
          "execution_count": 25
        }
      ]
    },
    {
      "cell_type": "code",
      "source": [
        "#checking accuracy testing data\n",
        "y_pred_test1 = model1.predict(X_test_scaled)\n",
        "pd.Series(y_pred_test1).value_counts()"
      ],
      "metadata": {
        "colab": {
          "base_uri": "https://localhost:8080/"
        },
        "id": "0A_H7tIa_4ko",
        "outputId": "8d58323b-b8fc-4ff2-9d8b-919ca45ce008"
      },
      "execution_count": 26,
      "outputs": [
        {
          "output_type": "execute_result",
          "data": {
            "text/plain": [
              "0    76\n",
              "1    44\n",
              "dtype: int64"
            ]
          },
          "metadata": {},
          "execution_count": 26
        }
      ]
    },
    {
      "cell_type": "code",
      "source": [
        "metrics.accuracy_score(y_pred_test1,y_test)"
      ],
      "metadata": {
        "colab": {
          "base_uri": "https://localhost:8080/"
        },
        "id": "K-rZh8yg_4hq",
        "outputId": "0621c5be-6751-4d7c-ec65-da6734b52d6a"
      },
      "execution_count": 27,
      "outputs": [
        {
          "output_type": "execute_result",
          "data": {
            "text/plain": [
              "0.9083333333333333"
            ]
          },
          "metadata": {},
          "execution_count": 27
        }
      ]
    },
    {
      "cell_type": "code",
      "source": [
        "print(classification_report(y_test,y_pred_test1))"
      ],
      "metadata": {
        "colab": {
          "base_uri": "https://localhost:8080/"
        },
        "id": "SaWCfAqY_4eX",
        "outputId": "27f5f27b-7035-4150-e560-1cecefaa739c"
      },
      "execution_count": 28,
      "outputs": [
        {
          "output_type": "stream",
          "name": "stdout",
          "text": [
            "              precision    recall  f1-score   support\n",
            "\n",
            "           0       0.95      0.91      0.93        79\n",
            "           1       0.84      0.90      0.87        41\n",
            "\n",
            "    accuracy                           0.91       120\n",
            "   macro avg       0.89      0.91      0.90       120\n",
            "weighted avg       0.91      0.91      0.91       120\n",
            "\n"
          ]
        }
      ]
    },
    {
      "cell_type": "code",
      "source": [
        "confusion_matrix(y_test,y_pred_test1)"
      ],
      "metadata": {
        "colab": {
          "base_uri": "https://localhost:8080/"
        },
        "id": "aDxAYbTE_4bW",
        "outputId": "ecafaeba-c4f8-413b-e076-b2e0aa302172"
      },
      "execution_count": 29,
      "outputs": [
        {
          "output_type": "execute_result",
          "data": {
            "text/plain": [
              "array([[72,  7],\n",
              "       [ 4, 37]])"
            ]
          },
          "metadata": {},
          "execution_count": 29
        }
      ]
    },
    {
      "cell_type": "markdown",
      "source": [
        "**Out of 120 prediction 109 predictions are coreect only 11 prediction are not correct**"
      ],
      "metadata": {
        "id": "3_dRJAybCbr7"
      }
    },
    {
      "cell_type": "code",
      "source": [
        "model1.score(X_test_scaled,y_test)"
      ],
      "metadata": {
        "colab": {
          "base_uri": "https://localhost:8080/"
        },
        "id": "Pg9qbIDS_4Yc",
        "outputId": "f1497b41-1494-4aaf-e257-78f09fc587e0"
      },
      "execution_count": 30,
      "outputs": [
        {
          "output_type": "execute_result",
          "data": {
            "text/plain": [
              "0.9083333333333333"
            ]
          },
          "metadata": {},
          "execution_count": 30
        }
      ]
    },
    {
      "cell_type": "markdown",
      "source": [
        "#Model Building - Applying SVC on training set using kernel polynomial"
      ],
      "metadata": {
        "id": "c6Sy2lB_Cn6b"
      }
    },
    {
      "cell_type": "code",
      "source": [
        "from sklearn.svm import SVC\n",
        "model2=SVC(kernel='poly',degree=4)\n",
        "model2.fit(X_train_scaled,y_train)"
      ],
      "metadata": {
        "colab": {
          "base_uri": "https://localhost:8080/",
          "height": 75
        },
        "id": "jPvJR-VT_4Va",
        "outputId": "20b84a05-2716-4670-a1ef-1a935c8928fd"
      },
      "execution_count": 31,
      "outputs": [
        {
          "output_type": "execute_result",
          "data": {
            "text/plain": [
              "SVC(degree=4, kernel='poly')"
            ],
            "text/html": [
              "<style>#sk-container-id-3 {color: black;background-color: white;}#sk-container-id-3 pre{padding: 0;}#sk-container-id-3 div.sk-toggleable {background-color: white;}#sk-container-id-3 label.sk-toggleable__label {cursor: pointer;display: block;width: 100%;margin-bottom: 0;padding: 0.3em;box-sizing: border-box;text-align: center;}#sk-container-id-3 label.sk-toggleable__label-arrow:before {content: \"▸\";float: left;margin-right: 0.25em;color: #696969;}#sk-container-id-3 label.sk-toggleable__label-arrow:hover:before {color: black;}#sk-container-id-3 div.sk-estimator:hover label.sk-toggleable__label-arrow:before {color: black;}#sk-container-id-3 div.sk-toggleable__content {max-height: 0;max-width: 0;overflow: hidden;text-align: left;background-color: #f0f8ff;}#sk-container-id-3 div.sk-toggleable__content pre {margin: 0.2em;color: black;border-radius: 0.25em;background-color: #f0f8ff;}#sk-container-id-3 input.sk-toggleable__control:checked~div.sk-toggleable__content {max-height: 200px;max-width: 100%;overflow: auto;}#sk-container-id-3 input.sk-toggleable__control:checked~label.sk-toggleable__label-arrow:before {content: \"▾\";}#sk-container-id-3 div.sk-estimator input.sk-toggleable__control:checked~label.sk-toggleable__label {background-color: #d4ebff;}#sk-container-id-3 div.sk-label input.sk-toggleable__control:checked~label.sk-toggleable__label {background-color: #d4ebff;}#sk-container-id-3 input.sk-hidden--visually {border: 0;clip: rect(1px 1px 1px 1px);clip: rect(1px, 1px, 1px, 1px);height: 1px;margin: -1px;overflow: hidden;padding: 0;position: absolute;width: 1px;}#sk-container-id-3 div.sk-estimator {font-family: monospace;background-color: #f0f8ff;border: 1px dotted black;border-radius: 0.25em;box-sizing: border-box;margin-bottom: 0.5em;}#sk-container-id-3 div.sk-estimator:hover {background-color: #d4ebff;}#sk-container-id-3 div.sk-parallel-item::after {content: \"\";width: 100%;border-bottom: 1px solid gray;flex-grow: 1;}#sk-container-id-3 div.sk-label:hover label.sk-toggleable__label {background-color: #d4ebff;}#sk-container-id-3 div.sk-serial::before {content: \"\";position: absolute;border-left: 1px solid gray;box-sizing: border-box;top: 0;bottom: 0;left: 50%;z-index: 0;}#sk-container-id-3 div.sk-serial {display: flex;flex-direction: column;align-items: center;background-color: white;padding-right: 0.2em;padding-left: 0.2em;position: relative;}#sk-container-id-3 div.sk-item {position: relative;z-index: 1;}#sk-container-id-3 div.sk-parallel {display: flex;align-items: stretch;justify-content: center;background-color: white;position: relative;}#sk-container-id-3 div.sk-item::before, #sk-container-id-3 div.sk-parallel-item::before {content: \"\";position: absolute;border-left: 1px solid gray;box-sizing: border-box;top: 0;bottom: 0;left: 50%;z-index: -1;}#sk-container-id-3 div.sk-parallel-item {display: flex;flex-direction: column;z-index: 1;position: relative;background-color: white;}#sk-container-id-3 div.sk-parallel-item:first-child::after {align-self: flex-end;width: 50%;}#sk-container-id-3 div.sk-parallel-item:last-child::after {align-self: flex-start;width: 50%;}#sk-container-id-3 div.sk-parallel-item:only-child::after {width: 0;}#sk-container-id-3 div.sk-dashed-wrapped {border: 1px dashed gray;margin: 0 0.4em 0.5em 0.4em;box-sizing: border-box;padding-bottom: 0.4em;background-color: white;}#sk-container-id-3 div.sk-label label {font-family: monospace;font-weight: bold;display: inline-block;line-height: 1.2em;}#sk-container-id-3 div.sk-label-container {text-align: center;}#sk-container-id-3 div.sk-container {/* jupyter's `normalize.less` sets `[hidden] { display: none; }` but bootstrap.min.css set `[hidden] { display: none !important; }` so we also need the `!important` here to be able to override the default hidden behavior on the sphinx rendered scikit-learn.org. See: https://github.com/scikit-learn/scikit-learn/issues/21755 */display: inline-block !important;position: relative;}#sk-container-id-3 div.sk-text-repr-fallback {display: none;}</style><div id=\"sk-container-id-3\" class=\"sk-top-container\"><div class=\"sk-text-repr-fallback\"><pre>SVC(degree=4, kernel=&#x27;poly&#x27;)</pre><b>In a Jupyter environment, please rerun this cell to show the HTML representation or trust the notebook. <br />On GitHub, the HTML representation is unable to render, please try loading this page with nbviewer.org.</b></div><div class=\"sk-container\" hidden><div class=\"sk-item\"><div class=\"sk-estimator sk-toggleable\"><input class=\"sk-toggleable__control sk-hidden--visually\" id=\"sk-estimator-id-3\" type=\"checkbox\" checked><label for=\"sk-estimator-id-3\" class=\"sk-toggleable__label sk-toggleable__label-arrow\">SVC</label><div class=\"sk-toggleable__content\"><pre>SVC(degree=4, kernel=&#x27;poly&#x27;)</pre></div></div></div></div></div>"
            ]
          },
          "metadata": {},
          "execution_count": 31
        }
      ]
    },
    {
      "cell_type": "code",
      "source": [
        "#checking accuracy training data\n",
        "y_pred_train2 = model2.predict(X_train_scaled)\n",
        "pd.Series(y_pred_train2).value_counts()"
      ],
      "metadata": {
        "colab": {
          "base_uri": "https://localhost:8080/"
        },
        "id": "PMSJgkrO_4SF",
        "outputId": "e3440eb0-ed5e-4efa-aa99-641519989410"
      },
      "execution_count": 32,
      "outputs": [
        {
          "output_type": "execute_result",
          "data": {
            "text/plain": [
              "0    208\n",
              "1     72\n",
              "dtype: int64"
            ]
          },
          "metadata": {},
          "execution_count": 32
        }
      ]
    },
    {
      "cell_type": "code",
      "source": [
        "metrics.accuracy_score(y_pred_train2,y_train)"
      ],
      "metadata": {
        "colab": {
          "base_uri": "https://localhost:8080/"
        },
        "id": "P27j9nj1_4Pc",
        "outputId": "7b6af039-88a9-4aa6-b383-c2baec5156ad"
      },
      "execution_count": 33,
      "outputs": [
        {
          "output_type": "execute_result",
          "data": {
            "text/plain": [
              "0.8142857142857143"
            ]
          },
          "metadata": {},
          "execution_count": 33
        }
      ]
    },
    {
      "cell_type": "code",
      "source": [
        "#checking accuracy testing data\n",
        "y_pred_test2 = model2.predict(X_test_scaled)\n",
        "pd.Series(y_pred_test2).value_counts()"
      ],
      "metadata": {
        "colab": {
          "base_uri": "https://localhost:8080/"
        },
        "id": "K-9Xfq5j_4NA",
        "outputId": "18480bb2-4bf9-4862-a370-e806c54e1667"
      },
      "execution_count": 34,
      "outputs": [
        {
          "output_type": "execute_result",
          "data": {
            "text/plain": [
              "0    93\n",
              "1    27\n",
              "dtype: int64"
            ]
          },
          "metadata": {},
          "execution_count": 34
        }
      ]
    },
    {
      "cell_type": "code",
      "source": [
        "metrics.accuracy_score(y_pred_test2,y_test)"
      ],
      "metadata": {
        "colab": {
          "base_uri": "https://localhost:8080/"
        },
        "id": "jDH3-Xob_387",
        "outputId": "7abdf0a9-4e0c-43cd-af1b-57005dc40d4e"
      },
      "execution_count": 35,
      "outputs": [
        {
          "output_type": "execute_result",
          "data": {
            "text/plain": [
              "0.8166666666666667"
            ]
          },
          "metadata": {},
          "execution_count": 35
        }
      ]
    },
    {
      "cell_type": "code",
      "source": [
        "print(classification_report(y_test,y_pred_test2))"
      ],
      "metadata": {
        "colab": {
          "base_uri": "https://localhost:8080/"
        },
        "id": "lIqMlD9b_35m",
        "outputId": "d78f2f94-347e-4af2-f6dd-7105abce71ef"
      },
      "execution_count": 36,
      "outputs": [
        {
          "output_type": "stream",
          "name": "stdout",
          "text": [
            "              precision    recall  f1-score   support\n",
            "\n",
            "           0       0.81      0.95      0.87        79\n",
            "           1       0.85      0.56      0.68        41\n",
            "\n",
            "    accuracy                           0.82       120\n",
            "   macro avg       0.83      0.76      0.77       120\n",
            "weighted avg       0.82      0.82      0.81       120\n",
            "\n"
          ]
        }
      ]
    },
    {
      "cell_type": "code",
      "source": [
        "confusion_matrix(y_test,y_pred_test2)"
      ],
      "metadata": {
        "colab": {
          "base_uri": "https://localhost:8080/"
        },
        "id": "TwWZ1Tup_32q",
        "outputId": "dd9576d6-47d9-4339-a18c-a5c2f74ae03c"
      },
      "execution_count": 37,
      "outputs": [
        {
          "output_type": "execute_result",
          "data": {
            "text/plain": [
              "array([[75,  4],\n",
              "       [18, 23]])"
            ]
          },
          "metadata": {},
          "execution_count": 37
        }
      ]
    },
    {
      "cell_type": "code",
      "source": [
        "model2.score(X_test_scaled,y_test)"
      ],
      "metadata": {
        "colab": {
          "base_uri": "https://localhost:8080/"
        },
        "id": "qr6zuAdj_3z8",
        "outputId": "7cdd3646-38ee-4667-9fc2-7df9b5ddb92f"
      },
      "execution_count": 38,
      "outputs": [
        {
          "output_type": "execute_result",
          "data": {
            "text/plain": [
              "0.8166666666666667"
            ]
          },
          "metadata": {},
          "execution_count": 38
        }
      ]
    },
    {
      "cell_type": "markdown",
      "source": [
        "**Insights that we are getting from data is that our data is of non-linear nature that is why we are getting good accuracy score when we used methods of classification in svc that are rbf, and linear is also giving good accuracy.**"
      ],
      "metadata": {
        "id": "3dFsQEoJELcc"
      }
    },
    {
      "cell_type": "code",
      "source": [
        "plt.scatter(X_train_scaled[:,0],X_train_scaled[:,1], c=y_train)\n",
        "plt.xlabel(\"Age\")\n",
        "plt.ylabel(\"Estimated Salary\")\n",
        "plt.title(\"Training Data\")\n",
        "plt.show()"
      ],
      "metadata": {
        "colab": {
          "base_uri": "https://localhost:8080/",
          "height": 472
        },
        "id": "jINP0vSp_3xa",
        "outputId": "40560ff8-cf1d-4156-da9c-040b423a05bc"
      },
      "execution_count": 39,
      "outputs": [
        {
          "output_type": "display_data",
          "data": {
            "text/plain": [
              "<Figure size 640x480 with 1 Axes>"
            ],
            "image/png": "[encoded data removed]"
          },
          "metadata": {}
        }
      ]
    },
    {
      "cell_type": "code",
      "source": [
        "plt.scatter(X_test_scaled[:,0],X_test_scaled[:,1], c=y_test)\n",
        "plt.xlabel(\"Age\")\n",
        "plt.ylabel(\"Estimated Salary\")\n",
        "plt.title(\"Testing Data\")\n",
        "plt.show()"
      ],
      "metadata": {
        "colab": {
          "base_uri": "https://localhost:8080/",
          "height": 472
        },
        "id": "PE-uAFcP_3uz",
        "outputId": "6ccec526-2e6a-4c19-9160-6d5dd07b2fbd"
      },
      "execution_count": 40,
      "outputs": [
        {
          "output_type": "display_data",
          "data": {
            "text/plain": [
              "<Figure size 640x480 with 1 Axes>"
            ],
            "image/png": "[encoded data removed]"
          },
          "metadata": {}
        }
      ]
    },
    {
      "cell_type": "code",
      "source": [
        "from sklearn.svm import SVC\n",
        "model=SVC(kernel='linear',random_state=0)\n",
        "model.fit(X_train_scaled,y_train)\n",
        "\n",
        "#Predecting Test Set results\n",
        "y_pred_test=model.predict(X_test_scaled)\n",
        "\n",
        "#Plotting data points\n",
        "plt.scatter(X_test_scaled[:,0],X_test_scaled[:,1],c=y_test)\n",
        "\n",
        "#creating the hyperplane\n",
        "w=model.coef_[0]\n",
        "a= -w[0]/w[1]\n",
        "xx= np.linspace(-2.5,2.5)\n",
        "yy= a * xx -(model.intercept_[0]) / w[1]\n",
        "\n",
        "#Plot the hyperplane\n",
        "plt.plot(xx,yy)\n",
        "plt.axis(\"off\"), plt.show();\n"
      ],
      "metadata": {
        "colab": {
          "base_uri": "https://localhost:8080/",
          "height": 406
        },
        "id": "P1eebCpK_3rh",
        "outputId": "9455b1a5-2a36-4d9d-8096-c50727fac0dc"
      },
      "execution_count": 41,
      "outputs": [
        {
          "output_type": "display_data",
          "data": {
            "text/plain": [
              "<Figure size 640x480 with 1 Axes>"
            ],
            "image/png": "[encoded data removed]"
          },
          "metadata": {}
        }
      ]
    }
  ]
}